{
  "nbformat": 4,
  "nbformat_minor": 0,
  "metadata": {
    "colab": {
      "provenance": [],
      "gpuType": "T4",
      "authorship_tag": "ABX9TyMb3n4PtiR9QX0hQt8aT6GM",
      "include_colab_link": true
    },
    "kernelspec": {
      "name": "python3",
      "display_name": "Python 3"
    },
    "language_info": {
      "name": "python"
    },
    "accelerator": "GPU"
  },
  "cells": [
    {
      "cell_type": "markdown",
      "metadata": {
        "id": "view-in-github",
        "colab_type": "text"
      },
      "source": [
        "<a href=\"https://colab.research.google.com/github/piotrwrzodak/UAM-DEEP-LEARNING/blob/master/1.ipynb\" target=\"_parent\"><img src=\"https://colab.research.google.com/assets/colab-badge.svg\" alt=\"Open In Colab\"/></a>"
      ]
    },
    {
      "cell_type": "code",
      "source": [
        "!nvidia-smi"
      ],
      "metadata": {
        "colab": {
          "base_uri": "https://localhost:8080/"
        },
        "id": "arJIHECwwBHV",
        "outputId": "4d81e846-a4bd-447f-d856-3bd8068b7599"
      },
      "execution_count": 1,
      "outputs": [
        {
          "output_type": "stream",
          "name": "stdout",
          "text": [
            "Fri Apr 26 13:54:06 2024       \n",
            "+---------------------------------------------------------------------------------------+\n",
            "| NVIDIA-SMI 535.104.05             Driver Version: 535.104.05   CUDA Version: 12.2     |\n",
            "|-----------------------------------------+----------------------+----------------------+\n",
            "| GPU  Name                 Persistence-M | Bus-Id        Disp.A | Volatile Uncorr. ECC |\n",
            "| Fan  Temp   Perf          Pwr:Usage/Cap |         Memory-Usage | GPU-Util  Compute M. |\n",
            "|                                         |                      |               MIG M. |\n",
            "|=========================================+======================+======================|\n",
            "|   0  Tesla T4                       Off | 00000000:00:04.0 Off |                    0 |\n",
            "| N/A   44C    P8               9W /  70W |      0MiB / 15360MiB |      0%      Default |\n",
            "|                                         |                      |                  N/A |\n",
            "+-----------------------------------------+----------------------+----------------------+\n",
            "                                                                                         \n",
            "+---------------------------------------------------------------------------------------+\n",
            "| Processes:                                                                            |\n",
            "|  GPU   GI   CI        PID   Type   Process name                            GPU Memory |\n",
            "|        ID   ID                                                             Usage      |\n",
            "|=======================================================================================|\n",
            "|  No running processes found                                                           |\n",
            "+---------------------------------------------------------------------------------------+\n"
          ]
        }
      ]
    },
    {
      "cell_type": "code",
      "source": [
        "import torch\n",
        "import torch.nn as nn\n",
        "from torch.optim import SGD\n",
        "from torch.utils.data import Dataset, DataLoader\n",
        "import numpy as np\n",
        "import matplotlib.pyplot as plt\n",
        "%matplotlib inline\n",
        "\n",
        "%pip install torch_summary\n",
        "from torchsummary import summary"
      ],
      "metadata": {
        "id": "K2jxRq50iXbq",
        "colab": {
          "base_uri": "https://localhost:8080/"
        },
        "outputId": "e4f4c1e3-baed-4179-9dc7-044a2d50117b"
      },
      "execution_count": 2,
      "outputs": [
        {
          "output_type": "stream",
          "name": "stdout",
          "text": [
            "Collecting torch_summary\n",
            "  Downloading torch_summary-1.4.5-py3-none-any.whl (16 kB)\n",
            "Installing collected packages: torch_summary\n",
            "Successfully installed torch_summary-1.4.5\n"
          ]
        }
      ]
    },
    {
      "cell_type": "code",
      "source": [
        "device = 'cuda' if torch.cuda.is_available() else 'cpu'"
      ],
      "metadata": {
        "id": "XTL11YoCidOJ"
      },
      "execution_count": 3,
      "outputs": []
    },
    {
      "cell_type": "code",
      "execution_count": 4,
      "metadata": {
        "id": "1yuFTS8jdsed"
      },
      "outputs": [],
      "source": [
        "x = [[1,2],[2,3],[3,4],[4,5],[5,6],[6,7],[7,8],[8,9]]\n",
        "y = [[2],[6],[12],[20],[30],[42],[56],[72]]"
      ]
    },
    {
      "cell_type": "code",
      "source": [
        "X = torch.tensor(x).float()\n",
        "Y = torch.tensor(y).float()\n",
        "\n",
        "X = X.to(device)\n",
        "Y = Y.to(device)\n",
        "\n",
        "class MyNeuralNet(nn.Module):\n",
        "    def __init__(self):\n",
        "        super().__init__()\n",
        "        self.input_to_hidden_layer = nn.Linear(2,8)\n",
        "        self.hidden_layer_activation = nn.ReLU()\n",
        "        self.hidden_to_output_layer = nn.Linear(8,1)\n",
        "    def forward(self, x):\n",
        "        x = self.input_to_hidden_layer(x)\n",
        "        x = self.hidden_layer_activation(x)\n",
        "        x = self.hidden_to_output_layer(x)\n",
        "        return x\n",
        "\n",
        "mynet = MyNeuralNet().to(device)\n",
        "loss_func = nn.MSELoss()\n",
        "\n",
        "_Y = mynet(X)\n",
        "loss_value = loss_func(_Y,Y)\n",
        "print(loss_value)\n",
        "\n",
        "\n",
        "opt = SGD(mynet.parameters(), lr = 0.001)\n",
        "\n",
        "loss_history = []\n",
        "for _ in range(50):\n",
        "    opt.zero_grad()\n",
        "    loss_value = loss_func(mynet(X),Y)\n",
        "    loss_value.backward()\n",
        "    opt.step()\n",
        "    loss_history.append(loss_value.item())\n",
        "\n",
        "\n",
        "plt.plot(loss_history)\n",
        "plt.title('Loss variation over increasing epochs')\n",
        "plt.xlabel('epochs')\n",
        "plt.ylabel('loss value')"
      ],
      "metadata": {
        "colab": {
          "base_uri": "https://localhost:8080/",
          "height": 507
        },
        "id": "PnodCqiQpPg1",
        "outputId": "368bf6a1-3010-44be-cd9f-c65cce6f1f18"
      },
      "execution_count": 5,
      "outputs": [
        {
          "output_type": "stream",
          "name": "stdout",
          "text": [
            "tensor(1857.8184, device='cuda:0', grad_fn=<MseLossBackward0>)\n"
          ]
        },
        {
          "output_type": "execute_result",
          "data": {
            "text/plain": [
              "Text(0, 0.5, 'loss value')"
            ]
          },
          "metadata": {},
          "execution_count": 5
        },
        {
          "output_type": "display_data",
          "data": {
            "text/plain": [
              "<Figure size 640x480 with 1 Axes>"
            ],
            "image/png": "[encoded data removed]"
          },
          "metadata": {}
        }
      ]
    },
    {
      "cell_type": "code",
      "source": [
        "class MyDataset(Dataset):\n",
        "    def __init__(self, x, y):\n",
        "        self.x = torch.tensor(x).float().to(device)\n",
        "        self.y = torch.tensor(y).float().to(device)\n",
        "    def __getitem__(self, ix):\n",
        "        return self.x[ix], self.y[ix]\n",
        "    def __len__(self):\n",
        "        return len(self.x)\n",
        "\n",
        "ds = MyDataset(x, y)\n",
        "dl = DataLoader(ds, batch_size=2, shuffle=True)\n",
        "\n",
        "def create_model(dimension: int):\n",
        "  model = nn.Sequential(\n",
        "      nn.Linear(2, dimension),\n",
        "      nn.ReLU(), # other: ReLU, Sigmoid, Tanh, Softmax\n",
        "      nn.Linear(dimension, 1)\n",
        "  ).to(device)\n",
        "  return model\n",
        "\n",
        "def train_model(model: nn.Sequential):\n",
        "  opt = SGD(model.parameters(), lr = 0.001) # stochastic gradient descent\n",
        "  loss_func = nn.MSELoss() # other: CrossEntropyLoss (for multinomial classification), BCELoss (binary cross-entropy loss for binary classification)\n",
        "  loss_history = []\n",
        "  for _ in range(50): # weight update process for a total of 50 epochs\n",
        "      for ix, iy in dl:\n",
        "          opt.zero_grad() # flush the previous epoch's gradients\n",
        "          loss_value = loss_func(model(ix),iy) # compute loss\n",
        "          loss_value.backward() # perform back-propagation\n",
        "          opt.step() # update the weights according to the gradients computed\n",
        "          loss_history.append(loss_value)\n",
        "\n",
        "\n",
        "model8 = create_model(8)\n",
        "model16 = create_model(16)\n",
        "model32 = create_model(32)\n",
        "model64 = create_model(64)\n",
        "model128 = create_model(128)\n",
        "\n",
        "train_model(model8)\n",
        "train_model(model16)\n",
        "train_model(model32)\n",
        "train_model(model64)\n",
        "train_model(model128)"
      ],
      "metadata": {
        "id": "uJgnSBoxikZx"
      },
      "execution_count": 6,
      "outputs": []
    },
    {
      "cell_type": "markdown",
      "source": [
        "### Predictions"
      ],
      "metadata": {
        "id": "HMs6LMMcz8b4"
      }
    },
    {
      "cell_type": "code",
      "source": [
        "def predict(model: nn.Sequential, val):\n",
        "  val = torch.tensor(val).float()\n",
        "  return model(val.to(device))\n",
        "\n",
        "val = [[8,9],[2,6],[4,5]]\n",
        "\n",
        "print(predict(model8, val))\n",
        "print(predict(model16, val))\n",
        "print(predict(model32, val))\n",
        "print(predict(model64, val))\n",
        "print(predict(model128, val))\n"
      ],
      "metadata": {
        "colab": {
          "base_uri": "https://localhost:8080/"
        },
        "id": "EBQBT3PKjaQx",
        "outputId": "ef2955b7-f150-4122-f6a7-bcaf0f2671db"
      },
      "execution_count": 7,
      "outputs": [
        {
          "output_type": "stream",
          "name": "stdout",
          "text": [
            "tensor([[51.3279],\n",
            "        [ 8.5620],\n",
            "        [22.8061]], device='cuda:0', grad_fn=<AddmmBackward0>)\n",
            "tensor([[41.8617],\n",
            "        [ 4.2829],\n",
            "        [17.6279]], device='cuda:0', grad_fn=<AddmmBackward0>)\n",
            "tensor([[51.0341],\n",
            "        [ 6.9028],\n",
            "        [21.5712]], device='cuda:0', grad_fn=<AddmmBackward0>)\n",
            "tensor([[59.4369],\n",
            "        [11.6689],\n",
            "        [26.1612]], device='cuda:0', grad_fn=<AddmmBackward0>)\n",
            "tensor([[55.3502],\n",
            "        [ 9.0149],\n",
            "        [24.0012]], device='cuda:0', grad_fn=<AddmmBackward0>)\n"
          ]
        }
      ]
    },
    {
      "cell_type": "markdown",
      "source": [
        "### Saving model"
      ],
      "metadata": {
        "id": "UsKC4HYDz0Xy"
      }
    },
    {
      "cell_type": "code",
      "source": [
        "def save_model(model, save_path: str):\n",
        "  torch.save(model.state_dict(), save_path)\n",
        "  # !du -hsc {save_path} # size of the model on disk\n",
        "\n",
        "save_path = 'model8.pth'\n",
        "save_model(model8, save_path)"
      ],
      "metadata": {
        "id": "8zjb7_qJznMi"
      },
      "execution_count": 8,
      "outputs": []
    },
    {
      "cell_type": "markdown",
      "source": [
        "### Loading model"
      ],
      "metadata": {
        "id": "notW5xZm0LM9"
      }
    },
    {
      "cell_type": "code",
      "source": [
        "model = create_model(8)\n",
        "\n",
        "def load_model(model: nn.Sequential, save_path: str):\n",
        "  return model.load_state_dict(torch.load(save_path))\n",
        "\n",
        "load_model(model, save_path)"
      ],
      "metadata": {
        "id": "CCxzjv-c0W-c",
        "colab": {
          "base_uri": "https://localhost:8080/"
        },
        "outputId": "a8c62fdd-4f8d-43d1-b885-dc662f46f57c"
      },
      "execution_count": 9,
      "outputs": [
        {
          "output_type": "execute_result",
          "data": {
            "text/plain": [
              "<All keys matched successfully>"
            ]
          },
          "metadata": {},
          "execution_count": 9
        }
      ]
    }
  ]
}